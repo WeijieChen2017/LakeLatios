{
 "cells": [
  {
   "cell_type": "code",
   "execution_count": 1,
   "metadata": {},
   "outputs": [],
   "source": [
    "import numpy as np"
   ]
  },
  {
   "cell_type": "code",
   "execution_count": 25,
   "metadata": {},
   "outputs": [
    {
     "name": "stdout",
     "output_type": "stream",
     "text": [
      "1.0\n",
      "[0 1 0 0 1 0 0 0 2 0 0 0 0 0 0 0 0 0 0 0 0 0 0 0 0 0 0 9 0 0 0 3 0 0 0 0 0\n",
      " 0 0 0 0 0 0 0 0 0 0 0 0 0 3 0 0 0 0 0 0 0 0 0 9 0 0 1 0 0 0 1 1 0 7 0 0 0\n",
      " 0 9 1 0 0 0 4 0 0 0 0 0 0 0 0 0 0 0 0 0 0 1 0 0 0 0 0 0 0 0 0 0 0 0 3 0 1\n",
      " 0 0 0 1 0 0 0 0 0 0 8 0 0 0 8 0 0 9 0 0 1 0 0 0 0 0 0 9 0 0 0 7 0 0 0 0 0\n",
      " 0 0 1 0 8 0 0 0 0 0 1 0 0 0 0 0 0 1 0 0 0 4 0 1 0 1 0 0 3 3 0 4 0 9 1 1 0\n",
      " 0 0 0 0 0 1 0 0 1 2 0 1 0 0 2 0 2 0 0 0 1 0 0 0 0 0 0 0 0 0 1 0 0 1 0 0 0\n",
      " 0 0 0 0 0 0 0 3 0 0 0 0 0 0 1 8 0 0 0 0 0 4 0 0 0 0 0 0 0 0 0 0 0 0 1 0 1\n",
      " 0 0 0 0 0 0 1 0 1 0 0 0 0 0 0 1 0 0 0 0 0 0 2 0 0 1 3 0 0 0 0 0 0 0 3 1 0\n",
      " 0 0 0 4 0 0 0 0 0 1 0 0 0 0 1 0 0 0 0 0 0 0 0 0 0 0 0 0 0 0 0 0 0 0 0 0 0\n",
      " 0 0 2 0 0 0 3 0 0 1 0 0 0 0 0 1 0 0 0 0 4 0 0 0 1 0 0 3 0 0 1 0 0 0 0 0 0\n",
      " 0 0 0 1 0 0 0 1 3 0 0 0 0 0 0 0 0 3 0 0 0 6 0 0 0 1 3 0 0 0 0 0 0 0 0 1 0\n",
      " 0 9 0 0 0 0 3 4 1 0 0 7 0 0 0 0 0 0 0 7 0 0 0 4 0 0 0 2 0 0 0 0 0 0 8 0 0\n",
      " 0 0 1 0 0 0 0 0 0 0 0 0 0 1 5 0 0 0 0 0 0 0 0 0 0 0 2 0 7 1 0 0 0 0 0 0 1\n",
      " 0 0 6 0 0 0 0 0 0 0 1 0 0 0 1 0 0 0 0]\n",
      "[402  48   8  14   8   1   2   5   5   7]\n"
     ]
    }
   ],
   "source": [
    "# generate 100 samples, with 10 classes, with the probability of each class is\n",
    "# [0.8, 0.1, 0.03, 0.03, 0.02, 0.01, 0.005, 0.005, 0.005, 0.005]\n",
    "\n",
    "# generate 100 samples\n",
    "n = 500\n",
    "# 10 classes\n",
    "k = 10\n",
    "# probability of each class is like long tail distribution\n",
    "p = [0.8, 0.1, 0.03, 0.03, 0.01, 0.001, 0.005, 0.008, 0.008, 0.008]\n",
    "print(np.sum(p))\n",
    "# generate 100 samples, with 10 classes, with the probability of each class is\n",
    "# [0.8, 0.1, 0.03, 0.03, 0.02, 0.01, 0.005, 0.005, 0.005, 0.005]\n",
    "samples = np.random.choice(k, n, p=p)\n",
    "print(samples)\n",
    "print(np.bincount(samples))"
   ]
  },
  {
   "cell_type": "code",
   "execution_count": 32,
   "metadata": {},
   "outputs": [
    {
     "name": "stdout",
     "output_type": "stream",
     "text": [
      "mean:  0.586 std:  1.6681139049837095 mode:  0\n"
     ]
    }
   ],
   "source": [
    "mean = np.mean(samples)\n",
    "std = np.std(samples)\n",
    "mode = np.argmax(np.bincount(samples))\n",
    "print(\"mean: \", mean, \"std: \", std, \"mode: \", mode)"
   ]
  },
  {
   "cell_type": "code",
   "execution_count": 30,
   "metadata": {},
   "outputs": [
    {
     "name": "stdout",
     "output_type": "stream",
     "text": [
      "th:  2.2541139049837096\n"
     ]
    }
   ],
   "source": [
    "th = mean + std\n",
    "print(\"th: \", th)"
   ]
  },
  {
   "cell_type": "code",
   "execution_count": 34,
   "metadata": {},
   "outputs": [],
   "source": [
    "data = samples\n",
    "total_observations = len(data)\n",
    "threshold_high = th\n"
   ]
  },
  {
   "cell_type": "code",
   "execution_count": 35,
   "metadata": {},
   "outputs": [
    {
     "name": "stdout",
     "output_type": "stream",
     "text": [
      "bel_high_threshold:  0.084 pl_high_threshold:  0.084\n",
      "bel_low_threshold:  0.916 pl_low_threshold:  0.916\n"
     ]
    }
   ],
   "source": [
    "# Determine the proportion of data points above (high) and below (low) the threshold\n",
    "high_values = data[data > threshold_high]\n",
    "low_values = data[data <= threshold_high]\n",
    "\n",
    "# Assign mass functions based on the proportion of high and low values\n",
    "m_high_threshold = len(high_values) / total_observations\n",
    "m_low_threshold = len(low_values) / total_observations\n",
    "\n",
    "# Assuming no mass is given to complete uncertainty (as all data is accounted as either high or low)\n",
    "m_uncertain_threshold = 0\n",
    "\n",
    "# Compute belief and plausibility for \"high\" values\n",
    "bel_high_threshold = m_high_threshold\n",
    "pl_high_threshold = m_high_threshold + m_uncertain_threshold\n",
    "\n",
    "# Compute belief and plausibility for \"low\" values\n",
    "bel_low_threshold = m_low_threshold\n",
    "pl_low_threshold = m_low_threshold + m_uncertain_threshold\n",
    "\n",
    "print(\"bel_high_threshold: \", bel_high_threshold, \"pl_high_threshold: \", pl_high_threshold)\n",
    "print(\"bel_low_threshold: \", bel_low_threshold, \"pl_low_threshold: \", pl_low_threshold)"
   ]
  },
  {
   "cell_type": "code",
   "execution_count": 36,
   "metadata": {},
   "outputs": [
    {
     "name": "stdout",
     "output_type": "stream",
     "text": [
      "mode is in low\n"
     ]
    }
   ],
   "source": [
    "# is mode in high or low?\n",
    "if mode > th:\n",
    "    print(\"mode is in high\")\n",
    "    isHigh = True\n",
    "else:\n",
    "    print(\"mode is in low\")\n",
    "    isHigh = False"
   ]
  },
  {
   "cell_type": "code",
   "execution_count": 38,
   "metadata": {},
   "outputs": [
    {
     "name": "stdout",
     "output_type": "stream",
     "text": [
      "selection:  0 uncertainty:  1.5965166031081544\n"
     ]
    }
   ],
   "source": [
    "uncertainty = std * np.sqrt(bel_high_threshold) if isHigh else std * np.sqrt(bel_low_threshold)\n",
    "print(\"selection: \", mode, \"uncertainty: \", uncertainty)"
   ]
  },
  {
   "cell_type": "code",
   "execution_count": 39,
   "metadata": {},
   "outputs": [
    {
     "name": "stdout",
     "output_type": "stream",
     "text": [
      "[118.00565489  88.72293997  93.67593065  99.27377206 132.09701599\n",
      "  96.53480325 111.16288893 104.55885837 108.72406066  94.34906658\n",
      "  97.84671367 111.1484032  109.67714566  96.08964044  88.13409177\n",
      "  97.19986885 109.51622361 110.51087053  98.50215828  92.04409775\n",
      "  94.77087068 104.54731319  97.7263205  106.17087804 103.82063908\n",
      "  83.85070385  88.57807582 100.6045026   94.22273571  96.16851209\n",
      "  96.70749943 106.55337978 107.19885727  96.71984192 105.96431174\n",
      "  79.90808575 101.88020336 119.22907922  92.26345792 110.64005636\n",
      " 107.51110803 110.57706887 108.00295122  92.80767789  91.68215521\n",
      " 100.16491781  97.52369438 112.3246324  104.99953783  88.90057398\n",
      "  92.5102949  103.40491575  94.72908602  92.15892848 116.71521536\n",
      "  91.9079125  109.81996293 105.75426777  99.63365369  94.30307254\n",
      "  89.78658469 105.50720255 112.16847615  97.07938336  96.36521623\n",
      " 110.45451224  88.52025218  91.36805045  89.29617438 110.01869353\n",
      "  96.95193281 102.13155842  95.23712746  87.73802482 105.83377256\n",
      " 115.4514563   76.44009039  95.01521902  87.17935328 108.7670759\n",
      " 118.1055017   91.16365711 115.16608434  91.77644276  95.54317793\n",
      "  90.92300271 102.7625259   91.4602178  104.20531892  95.7273218\n",
      "  94.90555637  94.97102387 108.25543787 107.51260785  97.95858752\n",
      "  74.30757207  92.03593047 113.58316254 116.64494563 113.11382273]\n"
     ]
    }
   ],
   "source": [
    "# give me 100 samples with mean = 100, std = 10\n",
    "samples = np.random.normal(100, 10, 100)\n",
    "print(samples)"
   ]
  },
  {
   "cell_type": "code",
   "execution_count": 58,
   "metadata": {},
   "outputs": [
    {
     "data": {
      "image/png": "[encoded data removed]",
      "text/plain": [
       "<Figure size 2000x500 with 4 Axes>"
      ]
     },
     "metadata": {},
     "output_type": "display_data"
    }
   ],
   "source": [
    "mu, std = 0, 10\n",
    "s = np.random.normal(mu, std, 1000)\n",
    "prior_1 = np.zeros((200))\n",
    "prior_2 = np.zeros((200))\n",
    "prior_3 = np.zeros((200))\n",
    "\n",
    "# count < -2, -2 < count < 2, count > 2\n",
    "mask_1 = s < -2\n",
    "mask_3 = s > 2\n",
    "mask_2 = np.logical_and(s >= -2, s <= 2)\n",
    "\n",
    "hist_s, _ = np.histogram(s, bins=200, range=(-10, 10))\n",
    "hist_1, _ = np.histogram(s[mask_1], bins=200, range=(-10, 10))\n",
    "hist_2, _ = np.histogram(s[mask_2], bins=200, range=(-10, 10))\n",
    "hist_3, _ = np.histogram(s[mask_3], bins=200, range=(-10, 10))\n",
    "\n",
    "prior_s = hist_s / np.sum(hist_s)\n",
    "prior_1 = hist_1 / np.sum(hist_1)\n",
    "prior_2 = hist_2 / np.sum(hist_2)\n",
    "prior_3 = hist_3 / np.sum(hist_3)\n",
    "\n",
    "import matplotlib.pyplot as plt\n",
    "\n",
    "# plot the stem plot for s, prior_1, prior_2, prior_3\n",
    "plt.figure(figsize=(20, 5))\n",
    "x_mesh = np.linspace(-10, 10, 200)\n",
    "plt.subplot(1, 4, 1)\n",
    "plt.stem(x_mesh, prior_s, 'k', markerfmt='ko', linefmt='k-')\n",
    "plt.subplot(1, 4, 2)\n",
    "plt.stem(x_mesh, prior_1, 'r', markerfmt='ro', linefmt='r-')\n",
    "plt.subplot(1, 4, 3)\n",
    "plt.stem(x_mesh, prior_2, 'g', markerfmt='go', linefmt='g-')\n",
    "plt.subplot(1, 4, 4)\n",
    "plt.stem(x_mesh, prior_3, 'b', markerfmt='bo', linefmt='b-')\n",
    "plt.show()"
   ]
  },
  {
   "cell_type": "code",
   "execution_count": 63,
   "metadata": {},
   "outputs": [
    {
     "name": "stdout",
     "output_type": "stream",
     "text": [
      "[[191 248 113 235 240 154  55 230]\n",
      " [239 154 128  93 243  52 145 249]\n",
      " [ 54 135  35   7  17 159 142  69]\n",
      " [169  25 145 175 207  15 253 181]\n",
      " [175   9  84  15 178 153  81 182]\n",
      " [157 134 248 119 152 186  99  10]\n",
      " [106 171 164 138  42 202  89  38]\n",
      " [234  80 169 202  26 254 191 118]] [[0.20062521 0.70896056 0.05257049 0.5538184  0.87132375 0.68558093\n",
      "  0.46796438 0.12215994]\n",
      " [0.96490235 0.68558093 0.15369926 0.73394827 0.19007502 0.97612106\n",
      "  0.83789535 0.46735758]\n",
      " [0.00357017 0.80559571 0.81734415 0.52564366 0.56053169 0.07310337\n",
      "  0.43524156 0.90315746]\n",
      " [0.24930333 0.16284222 0.83789535 0.23457855 0.72159684 0.25247462\n",
      "  0.4175736  0.20304002]\n",
      " [0.23457855 0.87116452 0.19839    0.25247462 0.55136156 0.53932721\n",
      "  0.69920219 0.77811486]\n",
      " [0.67881402 0.50023483 0.70896056 0.99236195 0.5356736  0.63074189\n",
      "  0.42195164 0.33149137]\n",
      " [0.88044825 0.85130022 0.59317496 0.34892883 0.7499929  0.69195218\n",
      "  0.34568228 0.41943322]\n",
      " [0.48187549 0.79016687 0.24930333 0.69195218 0.73010944 0.10902132\n",
      "  0.20062521 0.87194961]]\n"
     ]
    }
   ],
   "source": [
    "import numpy as np\n",
    "\n",
    "# Assuming 'img' is your 8x8 image array and 'weight_pixel_value' is your 256-element array of weights\n",
    "# Example initialization (replace these with your actual data)\n",
    "img = np.random.randint(0, 256, (8, 8), dtype=np.int16)\n",
    "weight_pixel_value = np.random.rand(256)  # Example weights, one for each possible pixel value\n",
    "\n",
    "# Obtain the weights for each pixel in the image\n",
    "weights = weight_pixel_value[img]\n",
    "\n",
    "# 'weights' is now an 8x8 array where each element corresponds to the weight of the pixel in 'img'\n",
    "print(img, weights)\n"
   ]
  },
  {
   "cell_type": "code",
   "execution_count": 64,
   "metadata": {},
   "outputs": [
    {
     "name": "stdout",
     "output_type": "stream",
     "text": [
      "0.20062520540501716\n"
     ]
    }
   ],
   "source": [
    "print(weight_pixel_value[191])"
   ]
  },
  {
   "cell_type": "code",
   "execution_count": null,
   "metadata": {},
   "outputs": [],
   "source": []
  }
 ],
 "metadata": {
  "kernelspec": {
   "display_name": "mimrtl",
   "language": "python",
   "name": "python3"
  },
  "language_info": {
   "codemirror_mode": {
    "name": "ipython",
    "version": 3
   },
   "file_extension": ".py",
   "mimetype": "text/x-python",
   "name": "python",
   "nbconvert_exporter": "python",
   "pygments_lexer": "ipython3",
   "version": "3.8.18"
  }
 },
 "nbformat": 4,
 "nbformat_minor": 2
}
